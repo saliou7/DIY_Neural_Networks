{
 "cells": [
  {
   "cell_type": "code",
   "execution_count": 1,
   "metadata": {},
   "outputs": [],
   "source": [
    "%load_ext autoreload\n",
    "%autoreload 2\n",
    "\n",
    "import sys\n",
    "sys.path.append(\"../Class\")\n",
    "sys.path.append(\"../utils\")\n",
    "\n",
    "import numpy as np\n",
    "import matplotlib.pyplot as plt\n",
    "from loss import MSELoss, LogSoftMaxCrossEntropy\n",
    "from lineaire import Linear\n",
    "from mltools import gen_arti, plot_frontiere, plot_data\n",
    "from transformations import TanH, SoftMax, ReLU \n",
    "from encapsulage import Sequential, Optim"
   ]
  },
  {
   "cell_type": "code",
   "execution_count": 2,
   "metadata": {},
   "outputs": [],
   "source": [
    "def load_usps(fn):\n",
    "    with open(fn, \"r\") as f:\n",
    "        f.readline()\n",
    "        data = [[float(x) for x in l.split()] for l in f if len(l.split()) > 2]\n",
    "    tmp = np.array(data)\n",
    "    return tmp[:, 1:], tmp[:, 0].astype(int)\n",
    "\n",
    "\n",
    "def get_usps(l, datax, datay):\n",
    "    if type(l) != list:\n",
    "        resx = datax[datay == l, :]\n",
    "        resy = datay[datay == l]\n",
    "        return resx, resy\n",
    "    tmp = list(zip(*[get_usps(i, datax, datay) for i in l]))\n",
    "    tmpx, tmpy = np.vstack(tmp[0]), np.hstack(tmp[1])\n",
    "    return tmpx, tmpy\n",
    "\n",
    "\n",
    "def show_usps(data):\n",
    "    plt.imshow(data.reshape((16, 16)), interpolation=\"nearest\", cmap=\"gray\")\n",
    "\n",
    "\n",
    "uspsdatatrain = \"../data/USPS_train.txt\"\n",
    "uspsdatatest = \"../data/USPS_test.txt\"\n",
    "\n",
    "alltrainx, alltrainy = load_usps(uspsdatatrain)\n",
    "alltestx, alltesty = load_usps(uspsdatatest)"
   ]
  },
  {
   "cell_type": "code",
   "execution_count": 3,
   "metadata": {},
   "outputs": [
    {
     "name": "stdout",
     "output_type": "stream",
     "text": [
      "label :  6\n"
     ]
    },
    {
     "data": {
      "image/png": "[encoded data removed]",
      "text/plain": [
       "<Figure size 640x480 with 1 Axes>"
      ]
     },
     "metadata": {},
     "output_type": "display_data"
    }
   ],
   "source": [
    "print(\"label : \", alltrainy[0])\n",
    "show_usps(alltrainx[0])"
   ]
  },
  {
   "cell_type": "code",
   "execution_count": 4,
   "metadata": {},
   "outputs": [],
   "source": [
    "# Exemple d'utilisation avec le réseau à deux couches précédent\n",
    "# Définition du réseau\n",
    "# hidden_size = 50\n",
    "dim = 1\n",
    "input = alltestx.shape[1]\n",
    "\n",
    "network = Sequential(\n",
    "    Linear(input, 128),\n",
    "    TanH(),\n",
    "    Linear(128, 64),\n",
    "    TanH(),\n",
    "    Linear(64, 32),\n",
    "    TanH(),\n",
    "    Linear(32, 10),\n",
    ")\n",
    "\n",
    "# Définition de l'optimiseur\n",
    "optimizer = Optim(network, LogSoftMaxCrossEntropy(), 1e-3)\n",
    "optimizer.SGD(x_train=alltrainx, y_train=alltrainy, batch_size=128, epochs=100)"
   ]
  },
  {
   "cell_type": "code",
   "execution_count": 5,
   "metadata": {},
   "outputs": [
    {
     "name": "stdout",
     "output_type": "stream",
     "text": [
      "accuracy train :  0.9799753120285283\n",
      "accuracy test   0.9267563527653214\n"
     ]
    }
   ],
   "source": [
    "print(\"accuracy train : \", optimizer.score(alltrainx, alltrainy))\n",
    "print(\"accuracy test  \", optimizer.score(alltestx, alltesty))"
   ]
  }
 ],
 "metadata": {
  "language_info": {
   "name": "python"
  }
 },
 "nbformat": 4,
 "nbformat_minor": 2
}
